{
 "cells": [
  {
   "metadata": {},
   "cell_type": "markdown",
   "source": "### A/B Test and Regression",
   "id": "d28aa5545ce00fd"
  },
  {
   "cell_type": "code",
   "id": "initial_id",
   "metadata": {
    "collapsed": true,
    "ExecuteTime": {
     "end_time": "2024-08-21T13:53:14.100879Z",
     "start_time": "2024-08-21T13:53:14.094778Z"
    }
   },
   "source": [
    "import warnings\n",
    "warnings.filterwarnings('ignore')\n",
    "\n",
    "import pandas as pd\n",
    "import numpy as np\n",
    "import statsmodels.api as sm\n",
    "import graphviz as gr\n",
    "\n",
    "data = pd.read_csv('../causal-inference-for-the-brave-and-true/data/online_classroom.csv')"
   ],
   "outputs": [],
   "execution_count": 10
  },
  {
   "metadata": {
    "ExecuteTime": {
     "end_time": "2024-08-21T13:53:14.364399Z",
     "start_time": "2024-08-21T13:53:14.360535Z"
    }
   },
   "cell_type": "code",
   "source": "data = data.query('format_blended==0')",
   "id": "ce1ff910df11268d",
   "outputs": [],
   "execution_count": 11
  },
  {
   "metadata": {
    "ExecuteTime": {
     "end_time": "2024-08-21T13:53:14.770244Z",
     "start_time": "2024-08-21T13:53:14.767559Z"
    }
   },
   "cell_type": "code",
   "source": [
    "X = sm.add_constant(data['falsexam'])\n",
    "y = data['format_ol']"
   ],
   "id": "ae832a4184686283",
   "outputs": [],
   "execution_count": 12
  },
  {
   "metadata": {
    "ExecuteTime": {
     "end_time": "2024-08-21T13:53:15.136274Z",
     "start_time": "2024-08-21T13:53:15.129700Z"
    }
   },
   "cell_type": "code",
   "source": [
    "result = sm.OLS(y, X).fit()\n",
    "print(result.summary())"
   ],
   "id": "979a76b7ed4d1dcb",
   "outputs": [
    {
     "name": "stdout",
     "output_type": "stream",
     "text": [
      "                            OLS Regression Results                            \n",
      "==============================================================================\n",
      "Dep. Variable:              format_ol   R-squared:                       0.039\n",
      "Model:                            OLS   Adj. R-squared:                  0.034\n",
      "Method:                 Least Squares   F-statistic:                     8.554\n",
      "Date:                Wed, 21 Aug 2024   Prob (F-statistic):            0.00382\n",
      "Time:                        22:53:15   Log-Likelihood:                -149.50\n",
      "No. Observations:                 214   AIC:                             303.0\n",
      "Df Residuals:                     212   BIC:                             309.7\n",
      "Df Model:                           1                                         \n",
      "Covariance Type:            nonrobust                                         \n",
      "==============================================================================\n",
      "                 coef    std err          t      P>|t|      [0.025      0.975]\n",
      "------------------------------------------------------------------------------\n",
      "const          1.0424      0.209      4.990      0.000       0.631       1.454\n",
      "falsexam      -0.0079      0.003     -2.925      0.004      -0.013      -0.003\n",
      "==============================================================================\n",
      "Omnibus:                     1330.587   Durbin-Watson:                   1.762\n",
      "Prob(Omnibus):                  0.000   Jarque-Bera (JB):               32.012\n",
      "Skew:                           0.264   Prob(JB):                     1.12e-07\n",
      "Kurtosis:                       1.180   Cond. No.                         484.\n",
      "==============================================================================\n",
      "\n",
      "Notes:\n",
      "[1] Standard Errors assume that the covariance matrix of the errors is correctly specified.\n"
     ]
    }
   ],
   "execution_count": 13
  },
  {
   "metadata": {
    "ExecuteTime": {
     "end_time": "2024-08-21T13:56:30.839160Z",
     "start_time": "2024-08-21T13:56:30.833302Z"
    }
   },
   "cell_type": "code",
   "source": "data.groupby('format_ol')['falsexam'].mean()",
   "id": "3ab539fe73a53446",
   "outputs": [
    {
     "data": {
      "text/plain": [
       "format_ol\n",
       "0    78.547485\n",
       "1    73.635263\n",
       "Name: falsexam, dtype: float64"
      ]
     },
     "execution_count": 14,
     "metadata": {},
     "output_type": "execute_result"
    }
   ],
   "execution_count": 14
  },
  {
   "metadata": {
    "ExecuteTime": {
     "end_time": "2024-08-21T13:57:48.375411Z",
     "start_time": "2024-08-21T13:57:48.369355Z"
    }
   },
   "cell_type": "code",
   "source": [
    "X = data[['format_ol']].assign(intercept = 1)\n",
    "y = data['falsexam']\n",
    "\n",
    "def regress(y, X) : \n",
    "    return np.linalg.inv(X.T.dot(X)).dot(X.T.dot(y))\n",
    "\n",
    "beta = regress(y, X)\n",
    "print(beta)"
   ],
   "id": "11f4feea8c9f24e1",
   "outputs": [
    {
     "name": "stdout",
     "output_type": "stream",
     "text": [
      "[-4.9122215  78.54748458]\n"
     ]
    }
   ],
   "execution_count": 15
  },
  {
   "metadata": {
    "ExecuteTime": {
     "end_time": "2024-08-21T14:01:47.971181Z",
     "start_time": "2024-08-21T14:01:47.968603Z"
    }
   },
   "cell_type": "code",
   "source": [
    "kapa = data['falsexam'].cov(data['format_ol']) / data['format_ol'].var()\n",
    "\n",
    "print(kapa)"
   ],
   "id": "bd1a2bc517d7d4b9",
   "outputs": [
    {
     "name": "stdout",
     "output_type": "stream",
     "text": [
      "-4.912221498226952\n"
     ]
    }
   ],
   "execution_count": 16
  },
  {
   "metadata": {},
   "cell_type": "markdown",
   "source": "### FWL Orthogonalization",
   "id": "3f905beac2260dd0"
  },
  {
   "metadata": {
    "ExecuteTime": {
     "end_time": "2024-08-21T15:41:43.967101Z",
     "start_time": "2024-08-21T15:41:43.952736Z"
    }
   },
   "cell_type": "code",
   "source": "wage = pd.read_csv('../causal-inference-for-the-brave-and-true/data/wage.csv').dropna()",
   "id": "ea2c14aa9f47e7e0",
   "outputs": [],
   "execution_count": 18
  },
  {
   "metadata": {
    "ExecuteTime": {
     "end_time": "2024-08-21T15:42:39.623716Z",
     "start_time": "2024-08-21T15:42:39.617210Z"
    }
   },
   "cell_type": "code",
   "source": "wage",
   "id": "b78eda5ce4e0f27a",
   "outputs": [
    {
     "data": {
      "text/plain": [
       "     wage  hours    lhwage   IQ  educ  exper  tenure  age  married  black  \\\n",
       "0     769     40  2.956212   93    12     11       2   31        1      0   \n",
       "2     825     40  3.026504  108    14     11       9   33        1      0   \n",
       "3     650     40  2.788093   96    12     13       7   32        1      0   \n",
       "4     562     40  2.642622   74    11     14       5   34        1      0   \n",
       "6     600     40  2.708050   91    10     13       0   30        0      0   \n",
       "..    ...    ...       ...  ...   ...    ...     ...  ...      ...    ...   \n",
       "924  1442     40  3.584907  113    16      8      10   35        1      0   \n",
       "925   645     45  2.662588   93    12     11       3   35        1      0   \n",
       "928   477     45  2.360854  100    12      9       3   31        1      0   \n",
       "929   664     60  2.403938   82    16     10       9   34        1      1   \n",
       "931  1202     40  3.402863  102    13     10       3   31        1      0   \n",
       "\n",
       "     south  urban  sibs  brthord  meduc  feduc  \n",
       "0        0      1     1      2.0    8.0    8.0  \n",
       "2        0      1     1      2.0   14.0   14.0  \n",
       "3        0      1     4      3.0   12.0   12.0  \n",
       "4        0      1    10      6.0    6.0   11.0  \n",
       "6        0      1     1      2.0    8.0    8.0  \n",
       "..     ...    ...   ...      ...    ...    ...  \n",
       "924      1      1     2      2.0    8.0    8.0  \n",
       "925      1      0     7      7.0    7.0    8.0  \n",
       "928      1      0     3      3.0    7.0    7.0  \n",
       "929      1      1     3      4.0   16.0   16.0  \n",
       "931      1      1     7      7.0    8.0    6.0  \n",
       "\n",
       "[663 rows x 16 columns]"
      ],
      "text/html": [
       "<div>\n",
       "<style scoped>\n",
       "    .dataframe tbody tr th:only-of-type {\n",
       "        vertical-align: middle;\n",
       "    }\n",
       "\n",
       "    .dataframe tbody tr th {\n",
       "        vertical-align: top;\n",
       "    }\n",
       "\n",
       "    .dataframe thead th {\n",
       "        text-align: right;\n",
       "    }\n",
       "</style>\n",
       "<table border=\"1\" class=\"dataframe\">\n",
       "  <thead>\n",
       "    <tr style=\"text-align: right;\">\n",
       "      <th></th>\n",
       "      <th>wage</th>\n",
       "      <th>hours</th>\n",
       "      <th>lhwage</th>\n",
       "      <th>IQ</th>\n",
       "      <th>educ</th>\n",
       "      <th>exper</th>\n",
       "      <th>tenure</th>\n",
       "      <th>age</th>\n",
       "      <th>married</th>\n",
       "      <th>black</th>\n",
       "      <th>south</th>\n",
       "      <th>urban</th>\n",
       "      <th>sibs</th>\n",
       "      <th>brthord</th>\n",
       "      <th>meduc</th>\n",
       "      <th>feduc</th>\n",
       "    </tr>\n",
       "  </thead>\n",
       "  <tbody>\n",
       "    <tr>\n",
       "      <th>0</th>\n",
       "      <td>769</td>\n",
       "      <td>40</td>\n",
       "      <td>2.956212</td>\n",
       "      <td>93</td>\n",
       "      <td>12</td>\n",
       "      <td>11</td>\n",
       "      <td>2</td>\n",
       "      <td>31</td>\n",
       "      <td>1</td>\n",
       "      <td>0</td>\n",
       "      <td>0</td>\n",
       "      <td>1</td>\n",
       "      <td>1</td>\n",
       "      <td>2.0</td>\n",
       "      <td>8.0</td>\n",
       "      <td>8.0</td>\n",
       "    </tr>\n",
       "    <tr>\n",
       "      <th>2</th>\n",
       "      <td>825</td>\n",
       "      <td>40</td>\n",
       "      <td>3.026504</td>\n",
       "      <td>108</td>\n",
       "      <td>14</td>\n",
       "      <td>11</td>\n",
       "      <td>9</td>\n",
       "      <td>33</td>\n",
       "      <td>1</td>\n",
       "      <td>0</td>\n",
       "      <td>0</td>\n",
       "      <td>1</td>\n",
       "      <td>1</td>\n",
       "      <td>2.0</td>\n",
       "      <td>14.0</td>\n",
       "      <td>14.0</td>\n",
       "    </tr>\n",
       "    <tr>\n",
       "      <th>3</th>\n",
       "      <td>650</td>\n",
       "      <td>40</td>\n",
       "      <td>2.788093</td>\n",
       "      <td>96</td>\n",
       "      <td>12</td>\n",
       "      <td>13</td>\n",
       "      <td>7</td>\n",
       "      <td>32</td>\n",
       "      <td>1</td>\n",
       "      <td>0</td>\n",
       "      <td>0</td>\n",
       "      <td>1</td>\n",
       "      <td>4</td>\n",
       "      <td>3.0</td>\n",
       "      <td>12.0</td>\n",
       "      <td>12.0</td>\n",
       "    </tr>\n",
       "    <tr>\n",
       "      <th>4</th>\n",
       "      <td>562</td>\n",
       "      <td>40</td>\n",
       "      <td>2.642622</td>\n",
       "      <td>74</td>\n",
       "      <td>11</td>\n",
       "      <td>14</td>\n",
       "      <td>5</td>\n",
       "      <td>34</td>\n",
       "      <td>1</td>\n",
       "      <td>0</td>\n",
       "      <td>0</td>\n",
       "      <td>1</td>\n",
       "      <td>10</td>\n",
       "      <td>6.0</td>\n",
       "      <td>6.0</td>\n",
       "      <td>11.0</td>\n",
       "    </tr>\n",
       "    <tr>\n",
       "      <th>6</th>\n",
       "      <td>600</td>\n",
       "      <td>40</td>\n",
       "      <td>2.708050</td>\n",
       "      <td>91</td>\n",
       "      <td>10</td>\n",
       "      <td>13</td>\n",
       "      <td>0</td>\n",
       "      <td>30</td>\n",
       "      <td>0</td>\n",
       "      <td>0</td>\n",
       "      <td>0</td>\n",
       "      <td>1</td>\n",
       "      <td>1</td>\n",
       "      <td>2.0</td>\n",
       "      <td>8.0</td>\n",
       "      <td>8.0</td>\n",
       "    </tr>\n",
       "    <tr>\n",
       "      <th>...</th>\n",
       "      <td>...</td>\n",
       "      <td>...</td>\n",
       "      <td>...</td>\n",
       "      <td>...</td>\n",
       "      <td>...</td>\n",
       "      <td>...</td>\n",
       "      <td>...</td>\n",
       "      <td>...</td>\n",
       "      <td>...</td>\n",
       "      <td>...</td>\n",
       "      <td>...</td>\n",
       "      <td>...</td>\n",
       "      <td>...</td>\n",
       "      <td>...</td>\n",
       "      <td>...</td>\n",
       "      <td>...</td>\n",
       "    </tr>\n",
       "    <tr>\n",
       "      <th>924</th>\n",
       "      <td>1442</td>\n",
       "      <td>40</td>\n",
       "      <td>3.584907</td>\n",
       "      <td>113</td>\n",
       "      <td>16</td>\n",
       "      <td>8</td>\n",
       "      <td>10</td>\n",
       "      <td>35</td>\n",
       "      <td>1</td>\n",
       "      <td>0</td>\n",
       "      <td>1</td>\n",
       "      <td>1</td>\n",
       "      <td>2</td>\n",
       "      <td>2.0</td>\n",
       "      <td>8.0</td>\n",
       "      <td>8.0</td>\n",
       "    </tr>\n",
       "    <tr>\n",
       "      <th>925</th>\n",
       "      <td>645</td>\n",
       "      <td>45</td>\n",
       "      <td>2.662588</td>\n",
       "      <td>93</td>\n",
       "      <td>12</td>\n",
       "      <td>11</td>\n",
       "      <td>3</td>\n",
       "      <td>35</td>\n",
       "      <td>1</td>\n",
       "      <td>0</td>\n",
       "      <td>1</td>\n",
       "      <td>0</td>\n",
       "      <td>7</td>\n",
       "      <td>7.0</td>\n",
       "      <td>7.0</td>\n",
       "      <td>8.0</td>\n",
       "    </tr>\n",
       "    <tr>\n",
       "      <th>928</th>\n",
       "      <td>477</td>\n",
       "      <td>45</td>\n",
       "      <td>2.360854</td>\n",
       "      <td>100</td>\n",
       "      <td>12</td>\n",
       "      <td>9</td>\n",
       "      <td>3</td>\n",
       "      <td>31</td>\n",
       "      <td>1</td>\n",
       "      <td>0</td>\n",
       "      <td>1</td>\n",
       "      <td>0</td>\n",
       "      <td>3</td>\n",
       "      <td>3.0</td>\n",
       "      <td>7.0</td>\n",
       "      <td>7.0</td>\n",
       "    </tr>\n",
       "    <tr>\n",
       "      <th>929</th>\n",
       "      <td>664</td>\n",
       "      <td>60</td>\n",
       "      <td>2.403938</td>\n",
       "      <td>82</td>\n",
       "      <td>16</td>\n",
       "      <td>10</td>\n",
       "      <td>9</td>\n",
       "      <td>34</td>\n",
       "      <td>1</td>\n",
       "      <td>1</td>\n",
       "      <td>1</td>\n",
       "      <td>1</td>\n",
       "      <td>3</td>\n",
       "      <td>4.0</td>\n",
       "      <td>16.0</td>\n",
       "      <td>16.0</td>\n",
       "    </tr>\n",
       "    <tr>\n",
       "      <th>931</th>\n",
       "      <td>1202</td>\n",
       "      <td>40</td>\n",
       "      <td>3.402863</td>\n",
       "      <td>102</td>\n",
       "      <td>13</td>\n",
       "      <td>10</td>\n",
       "      <td>3</td>\n",
       "      <td>31</td>\n",
       "      <td>1</td>\n",
       "      <td>0</td>\n",
       "      <td>1</td>\n",
       "      <td>1</td>\n",
       "      <td>7</td>\n",
       "      <td>7.0</td>\n",
       "      <td>8.0</td>\n",
       "      <td>6.0</td>\n",
       "    </tr>\n",
       "  </tbody>\n",
       "</table>\n",
       "<p>663 rows × 16 columns</p>\n",
       "</div>"
      ]
     },
     "execution_count": 22,
     "metadata": {},
     "output_type": "execute_result"
    }
   ],
   "execution_count": 22
  },
  {
   "metadata": {
    "ExecuteTime": {
     "end_time": "2024-08-21T15:44:14.559781Z",
     "start_time": "2024-08-21T15:44:14.554062Z"
    }
   },
   "cell_type": "code",
   "source": [
    "X = wage['educ']\n",
    "X = sm.add_constant(X)\n",
    "y = np.log(wage['wage'] / wage['hours'])"
   ],
   "id": "933d115e285e43cd",
   "outputs": [],
   "execution_count": 27
  },
  {
   "metadata": {
    "ExecuteTime": {
     "end_time": "2024-08-21T15:44:22.073684Z",
     "start_time": "2024-08-21T15:44:22.063322Z"
    }
   },
   "cell_type": "code",
   "source": [
    "model_1 = sm.OLS(y, X).fit()\n",
    "print(model_1.summary())"
   ],
   "id": "a5f1b5720387d1d6",
   "outputs": [
    {
     "name": "stdout",
     "output_type": "stream",
     "text": [
      "                            OLS Regression Results                            \n",
      "==============================================================================\n",
      "Dep. Variable:                      y   R-squared:                       0.071\n",
      "Model:                            OLS   Adj. R-squared:                  0.070\n",
      "Method:                 Least Squares   F-statistic:                     50.61\n",
      "Date:                Thu, 22 Aug 2024   Prob (F-statistic):           2.94e-12\n",
      "Time:                        00:44:22   Log-Likelihood:                -384.23\n",
      "No. Observations:                 663   AIC:                             772.5\n",
      "Df Residuals:                     661   BIC:                             781.5\n",
      "Df Model:                           1                                         \n",
      "Covariance Type:            nonrobust                                         \n",
      "==============================================================================\n",
      "                 coef    std err          t      P>|t|      [0.025      0.975]\n",
      "------------------------------------------------------------------------------\n",
      "const          2.3071      0.104     22.089      0.000       2.102       2.512\n",
      "educ           0.0536      0.008      7.114      0.000       0.039       0.068\n",
      "==============================================================================\n",
      "Omnibus:                       40.032   Durbin-Watson:                   1.861\n",
      "Prob(Omnibus):                  0.000   Jarque-Bera (JB):               55.412\n",
      "Skew:                          -0.502   Prob(JB):                     9.28e-13\n",
      "Kurtosis:                       3.999   Cond. No.                         86.6\n",
      "==============================================================================\n",
      "\n",
      "Notes:\n",
      "[1] Standard Errors assume that the covariance matrix of the errors is correctly specified.\n"
     ]
    }
   ],
   "execution_count": 28
  },
  {
   "metadata": {
    "ExecuteTime": {
     "end_time": "2024-08-21T15:46:56.327245Z",
     "start_time": "2024-08-21T15:46:56.259243Z"
    }
   },
   "cell_type": "code",
   "source": [
    "import matplotlib.pyplot as plt\n",
    "\n",
    "plt.plot(\n",
    "    np.array(range(5, 20)),\n",
    "    np.exp(model_1.params['const'] + model_1.params['educ'] * np.array(range(5, 20)))\n",
    ")\n",
    "plt.xlabel('Years of Education')\n",
    "plt.ylabel('Hourly Wage')\n",
    "plt.title('Impact of Education on Hourly wage')\n",
    "plt.show()"
   ],
   "id": "df46d77dcd0d417b",
   "outputs": [
    {
     "data": {
      "text/plain": [
       "<Figure size 640x480 with 1 Axes>"
      ],
      "image/png": "[encoded data removed]"
     },
     "metadata": {},
     "output_type": "display_data"
    }
   ],
   "execution_count": 31
  },
  {
   "metadata": {
    "ExecuteTime": {
     "end_time": "2024-08-21T15:49:17.772579Z",
     "start_time": "2024-08-21T15:49:17.743508Z"
    }
   },
   "cell_type": "code",
   "source": [
    "controls = ['IQ', 'exper', 'tenure', 'age', 'married', 'black',\n",
    "            'south', 'urban', 'sibs', 'brthord', 'meduc', 'feduc']\n",
    "\n",
    "X = wage[controls].assign(intercept = 1)\n",
    "t = wage['educ']\n",
    "y = wage['lhwage']\n",
    "\n",
    "beta_aux = regress(t, X)\n",
    "t_tilde = t - X.dot(beta_aux)\n",
    "\n",
    "kappa = t_tilde.cov(y) / t_tilde.var()\n",
    "print(f'Kappa: {kappa : .4f}')"
   ],
   "id": "8ee88a9ede75f05",
   "outputs": [
    {
     "name": "stdout",
     "output_type": "stream",
     "text": [
      "Kappa:  0.0411\n"
     ]
    }
   ],
   "execution_count": 33
  },
  {
   "metadata": {},
   "cell_type": "code",
   "outputs": [],
   "execution_count": null,
   "source": "",
   "id": "5789dd8f8c545875"
  }
 ],
 "metadata": {
  "kernelspec": {
   "display_name": "Python 3",
   "language": "python",
   "name": "python3"
  },
  "language_info": {
   "codemirror_mode": {
    "name": "ipython",
    "version": 2
   },
   "file_extension": ".py",
   "mimetype": "text/x-python",
   "name": "python",
   "nbconvert_exporter": "python",
   "pygments_lexer": "ipython2",
   "version": "2.7.6"
  }
 },
 "nbformat": 4,
 "nbformat_minor": 5
}
